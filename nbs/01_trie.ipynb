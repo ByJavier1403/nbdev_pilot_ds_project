{
 "cells": [
  {
   "cell_type": "markdown",
   "metadata": {},
   "source": [
    "# Trie\n",
    "\n",
    "> Trie data structure module"
   ]
  },
  {
   "cell_type": "code",
   "execution_count": null,
   "metadata": {},
   "outputs": [],
   "source": [
    "#| default_exp trie"
   ]
  },
  {
   "cell_type": "code",
   "execution_count": null,
   "metadata": {},
   "outputs": [],
   "source": [
    "#| hide\n",
    "from nbdev.showdoc import *\n",
    "from fastcore.test import *\n",
    "from fastcore.basics import *"
   ]
  },
  {
   "cell_type": "code",
   "execution_count": null,
   "metadata": {},
   "outputs": [],
   "source": [
    "#| export\n",
    "class TrieNode:\n",
    "    \"Stores the hashtable of the letters and tells if that node is the end of a word.\"\n",
    "    def __init__(self) -> None:\n",
    "        self.end = False\n",
    "        self.letters = {}"
   ]
  },
  {
   "cell_type": "code",
   "execution_count": null,
   "metadata": {},
   "outputs": [],
   "source": [
    "#| export\n",
    "class Trie:\n",
    "    \"Trie data structure. Can store multiple words in a graph linking each consecutive letters and make branches in them.\"\n",
    "    def __init__(self) -> None:\n",
    "        self.head = TrieNode()\n",
    "    \"Insert a word into the trie.\"\n",
    "    def insert(self, \n",
    "            word: str # Word to store in the trie\n",
    "            ) -> bool: # Returns true if it execute correctly, false if doesn't\n",
    "        actual_iteration = self.head\n",
    "        for letter in word:\n",
    "            actual_iteration_letters = actual_iteration.letters\n",
    "            if not letter in actual_iteration_letters:\n",
    "                actual_iteration_letters[letter] = TrieNode()\n",
    "            actual_iteration=actual_iteration_letters[letter]\n",
    "        actual_iteration.end = True\n",
    "        return True\n",
    "    \"Search a word in the trie\"\n",
    "    def search(self, \n",
    "                word: str # Word to search\n",
    "                ) -> bool: # Returns true if it exists, false if doesn't\n",
    "        actual_iteration = self.head\n",
    "        for letter in word:\n",
    "            actual_iteration_letters = actual_iteration.letters\n",
    "            if not letter in actual_iteration_letters:\n",
    "                return False\n",
    "            actual_iteration=actual_iteration_letters[letter]\n",
    "        return actual_iteration.end"
   ]
  },
  {
   "cell_type": "code",
   "execution_count": null,
   "metadata": {},
   "outputs": [
    {
     "data": {
      "text/markdown": [
       "---\n",
       "\n",
       "### Trie.insert\n",
       "\n",
       ">      Trie.insert (word:str)\n",
       "\n",
       "|    | **Type** | **Details** |\n",
       "| -- | -------- | ----------- |\n",
       "| word | str | word to store in the trie |\n",
       "| **Returns** | **bool** |  |"
      ],
      "text/plain": [
       "---\n",
       "\n",
       "### Trie.insert\n",
       "\n",
       ">      Trie.insert (word:str)\n",
       "\n",
       "|    | **Type** | **Details** |\n",
       "| -- | -------- | ----------- |\n",
       "| word | str | word to store in the trie |\n",
       "| **Returns** | **bool** |  |"
      ]
     },
     "execution_count": null,
     "metadata": {},
     "output_type": "execute_result"
    }
   ],
   "source": [
    "show_doc(Trie.insert)"
   ]
  },
  {
   "cell_type": "code",
   "execution_count": null,
   "metadata": {},
   "outputs": [
    {
     "data": {
      "text/markdown": [
       "---\n",
       "\n",
       "### Trie.search\n",
       "\n",
       ">      Trie.search (word:str)\n",
       "\n",
       "|    | **Type** | **Details** |\n",
       "| -- | -------- | ----------- |\n",
       "| word | str | word to search |\n",
       "| **Returns** | **bool** |  |"
      ],
      "text/plain": [
       "---\n",
       "\n",
       "### Trie.search\n",
       "\n",
       ">      Trie.search (word:str)\n",
       "\n",
       "|    | **Type** | **Details** |\n",
       "| -- | -------- | ----------- |\n",
       "| word | str | word to search |\n",
       "| **Returns** | **bool** |  |"
      ]
     },
     "execution_count": null,
     "metadata": {},
     "output_type": "execute_result"
    }
   ],
   "source": [
    "show_doc(Trie.search)"
   ]
  },
  {
   "cell_type": "code",
   "execution_count": null,
   "metadata": {},
   "outputs": [],
   "source": [
    "#| hide\n",
    "\"\"\"\n",
    "@patch\n",
    "def search(self: Trie, \n",
    "            word: str # Word to search\n",
    "            ) -> bool: #Returns true if it exists, false if doesn't\n",
    "    actual_iteration = self.head\n",
    "    for letter in word:\n",
    "        actual_iteration_letters = actual_iteration.letters\n",
    "        if not letter in actual_iteration_letters:\n",
    "            return False\n",
    "        actual_iteration=actual_iteration_letters[letter]\n",
    "    return actual_iteration.end\n",
    "\"\"\"\n"
   ]
  },
  {
   "cell_type": "code",
   "execution_count": null,
   "metadata": {},
   "outputs": [
    {
     "data": {
      "text/markdown": [
       "---\n",
       "\n",
       "### TrieNode\n",
       "\n",
       ">      TrieNode ()\n",
       "\n",
       "Stores the hashtable of the letters and the if that node is an end of a word."
      ],
      "text/plain": [
       "---\n",
       "\n",
       "### TrieNode\n",
       "\n",
       ">      TrieNode ()\n",
       "\n",
       "Stores the hashtable of the letters and the if that node is an end of a word."
      ]
     },
     "execution_count": null,
     "metadata": {},
     "output_type": "execute_result"
    }
   ],
   "source": [
    "show_doc(TrieNode)"
   ]
  },
  {
   "cell_type": "code",
   "execution_count": null,
   "metadata": {},
   "outputs": [],
   "source": [
    "#| hide\n",
    "trie = Trie()\n",
    "trie.insert(\"Hola\")\n",
    "assert trie.search(\"Hola\") == True\n",
    "assert trie.search(\"hola\") == False"
   ]
  },
  {
   "cell_type": "markdown",
   "metadata": {},
   "source": [
    "## Probando los métodos"
   ]
  },
  {
   "cell_type": "markdown",
   "metadata": {},
   "source": [
    "Creamos el Trie"
   ]
  },
  {
   "cell_type": "code",
   "execution_count": null,
   "metadata": {},
   "outputs": [],
   "source": [
    "triesito = Trie()"
   ]
  },
  {
   "cell_type": "markdown",
   "metadata": {},
   "source": [
    "Ahora, para insertar un elemento:"
   ]
  },
  {
   "cell_type": "code",
   "execution_count": null,
   "metadata": {},
   "outputs": [],
   "source": [
    "assert triesito.insert(\"José Vasconcelos\")\n",
    "assert triesito.insert(\"Catorce\")"
   ]
  },
  {
   "cell_type": "markdown",
   "metadata": {},
   "source": [
    "Ahora probaremos la búsqueda. Primero para un elemento que está y luego para otro elemento que no"
   ]
  },
  {
   "cell_type": "code",
   "execution_count": null,
   "metadata": {},
   "outputs": [],
   "source": [
    "assert triesito.search(\"José Vasconcelos\")"
   ]
  },
  {
   "cell_type": "code",
   "execution_count": null,
   "metadata": {},
   "outputs": [],
   "source": [
    "assert triesito.search(\"Juan Carlos\")==False"
   ]
  },
  {
   "cell_type": "code",
   "execution_count": null,
   "metadata": {},
   "outputs": [],
   "source": [
    "#| hide\n",
    "import nbdev; nbdev.nbdev_export()"
   ]
  }
 ],
 "metadata": {
  "kernelspec": {
   "display_name": "python3",
   "language": "python",
   "name": "python3"
  }
 },
 "nbformat": 4,
 "nbformat_minor": 4
}
