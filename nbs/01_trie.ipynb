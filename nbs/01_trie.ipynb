{
 "cells": [
  {
   "cell_type": "markdown",
   "metadata": {},
   "source": [
    "# Data Structures\n",
    "\n",
    "> Data structures module. It contains the DS's implementations of the library."
   ]
  },
  {
   "cell_type": "code",
   "execution_count": null,
   "metadata": {},
   "outputs": [],
   "source": [
    "#| default_exp bloomf"
   ]
  },
  {
   "cell_type": "code",
   "execution_count": null,
   "metadata": {},
   "outputs": [],
   "source": [
    "#| hide\n",
    "from nbdev.showdoc import *\n",
    "from fastcore.test import *"
   ]
  },
  {
   "cell_type": "code",
   "execution_count": null,
   "metadata": {},
   "outputs": [],
   "source": [
    "#| export\n",
    "class TrieNode:\n",
    "    \"Bloom filter description\"\n",
    "    def __init__(self) -> None:\n",
    "        self.end = False\n",
    "        self.letters = {}\n",
    "    def get_end(self)->bool:\n",
    "        return self.end\n",
    "    def get_letters(self)->dict:\n",
    "        return self.letters\n",
    "\n",
    "class Trie:\n",
    "    \"Bloom filter description\"\n",
    "    def __init__(self) -> None:\n",
    "        self.head = TrieNode()\n",
    "    def insert(self, word: str) -> None:\n",
    "        actual_iteration = self.head\n",
    "        for letter in word:\n",
    "            actual_iteration_letters = actual_iteration.letters\n",
    "            if not letter in actual_iteration_letters:\n",
    "                actual_iteration_letters[letter] = TrieNode()\n",
    "            actual_iteration=actual_iteration_letters[letter]\n",
    "        actual_iteration.end = True"
   ]
  },
  {
   "cell_type": "code",
   "execution_count": null,
   "metadata": {},
   "outputs": [],
   "source": [
    "#| hide\n",
    "import nbdev; nbdev.nbdev_export()"
   ]
  }
 ],
 "metadata": {
  "kernelspec": {
   "display_name": "python3",
   "language": "python",
   "name": "python3"
  }
 },
 "nbformat": 4,
 "nbformat_minor": 4
}
