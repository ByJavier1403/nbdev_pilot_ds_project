{
 "cells": [
  {
   "cell_type": "markdown",
   "metadata": {},
   "source": [
    "# Trie\n",
    "\n",
    "> Trie data structure module"
   ]
  },
  {
   "cell_type": "code",
   "execution_count": null,
   "metadata": {},
   "outputs": [],
   "source": [
    "#| default_exp trie"
   ]
  },
  {
   "cell_type": "code",
   "execution_count": 16,
   "metadata": {},
   "outputs": [],
   "source": [
    "#| hide\n",
    "from nbdev.showdoc import *\n",
    "from fastcore.test import *\n",
    "from fastcore.basics import *"
   ]
  },
  {
   "cell_type": "code",
   "execution_count": 6,
   "metadata": {},
   "outputs": [],
   "source": [
    "#| export\n",
    "class TrieNode:\n",
    "    \"Stores the hashtable of the letters and tells if that node is the end of a word.\"\n",
    "    def __init__(self) -> None:\n",
    "        self.end = False\n",
    "        self.letters = {}"
   ]
  },
  {
   "cell_type": "code",
   "execution_count": 9,
   "metadata": {},
   "outputs": [],
   "source": [
    "#| export\n",
    "class Trie:\n",
    "    \"Trie data structure. Can store multiple words in a graph linking each consecutive letters and make branches in them.\"\n",
    "    def __init__(self) -> None:\n",
    "        self.head = TrieNode()\n",
    "    def insert(self, \n",
    "            word: str # word to store in the trie\n",
    "            ) -> bool: \n",
    "        actual_iteration = self.head\n",
    "        for letter in word:\n",
    "            actual_iteration_letters = actual_iteration.letters\n",
    "            if not letter in actual_iteration_letters:\n",
    "                actual_iteration_letters[letter] = TrieNode()\n",
    "            actual_iteration=actual_iteration_letters[letter]\n",
    "        actual_iteration.end = True\n",
    "        return True"
   ]
  },
  {
   "cell_type": "code",
   "execution_count": 10,
   "metadata": {},
   "outputs": [
    {
     "data": {
      "text/markdown": [
       "---\n",
       "\n",
       "### Trie.insert\n",
       "\n",
       ">      Trie.insert (word:str)\n",
       "\n",
       "|    | **Type** | **Details** |\n",
       "| -- | -------- | ----------- |\n",
       "| word | str | word to store in the trie |\n",
       "| **Returns** | **bool** |  |"
      ],
      "text/plain": [
       "---\n",
       "\n",
       "### Trie.insert\n",
       "\n",
       ">      Trie.insert (word:str)\n",
       "\n",
       "|    | **Type** | **Details** |\n",
       "| -- | -------- | ----------- |\n",
       "| word | str | word to store in the trie |\n",
       "| **Returns** | **bool** |  |"
      ]
     },
     "execution_count": 10,
     "metadata": {},
     "output_type": "execute_result"
    }
   ],
   "source": [
    "show_doc(Trie.insert)"
   ]
  },
  {
   "cell_type": "markdown",
   "metadata": {},
   "source": [
    "# Trie.search(word: str)\n",
    "> Check if a word exist in the trie"
   ]
  },
  {
   "cell_type": "code",
   "execution_count": null,
   "metadata": {},
   "outputs": [],
   "source": [
    "#| hide\n",
    "@patch\n",
    "def search(self: Trie, \n",
    "            word: str # word to search\n",
    "            ) -> bool: \n",
    "    actual_iteration = self.head\n",
    "    for letter in word:\n",
    "        actual_iteration_letters = actual_iteration.letters\n",
    "        if not letter in actual_iteration_letters:\n",
    "            return False\n",
    "        actual_iteration=actual_iteration_letters[letter]\n",
    "    return actual_iteration.end\n"
   ]
  },
  {
   "cell_type": "code",
   "execution_count": null,
   "metadata": {},
   "outputs": [],
   "source": [
    "show_doc(Trie.search)"
   ]
  },
  {
   "cell_type": "code",
   "execution_count": null,
   "metadata": {},
   "outputs": [],
   "source": [
    "#| hide\n",
    "import nbdev; nbdev.nbdev_export()"
   ]
  },
  {
   "cell_type": "code",
   "execution_count": null,
   "metadata": {},
   "outputs": [
    {
     "data": {
      "text/markdown": [
       "---\n",
       "\n",
       "### TrieNode\n",
       "\n",
       ">      TrieNode ()\n",
       "\n",
       "Stores the hashtable of the letters and the if that node is an end of a word."
      ],
      "text/plain": [
       "---\n",
       "\n",
       "### TrieNode\n",
       "\n",
       ">      TrieNode ()\n",
       "\n",
       "Stores the hashtable of the letters and the if that node is an end of a word."
      ]
     },
     "execution_count": null,
     "metadata": {},
     "output_type": "execute_result"
    }
   ],
   "source": [
    "show_doc(TrieNode)"
   ]
  },
  {
   "cell_type": "code",
   "execution_count": null,
   "metadata": {},
   "outputs": [],
   "source": [
    "#| hide\n",
    "trie = Trie()\n",
    "trie.insert(\"Hola\")\n",
    "assert trie.search(\"Hola\") == True\n",
    "assert trie.search(\"hola\") == False"
   ]
  },
  {
   "cell_type": "code",
   "execution_count": null,
   "metadata": {},
   "outputs": [],
   "source": []
  }
 ],
 "metadata": {
  "kernelspec": {
   "display_name": "python3",
   "language": "python",
   "name": "python3"
  },
  "language_info": {
   "codemirror_mode": {
    "name": "ipython",
    "version": 3
   },
   "file_extension": ".py",
   "mimetype": "text/x-python",
   "name": "python",
   "nbconvert_exporter": "python",
   "pygments_lexer": "ipython3",
   "version": "3.10.12"
  }
 },
 "nbformat": 4,
 "nbformat_minor": 4
}
