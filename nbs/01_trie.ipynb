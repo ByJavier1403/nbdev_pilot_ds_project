{
 "cells": [
  {
   "cell_type": "markdown",
   "metadata": {},
   "source": [
    "# Trie\n",
    "\n",
    "> Trie data structure module"
   ]
  },
  {
   "cell_type": "code",
   "execution_count": null,
   "metadata": {},
   "outputs": [],
   "source": [
    "#| default_exp trie"
   ]
  },
  {
   "cell_type": "code",
   "execution_count": null,
   "metadata": {},
   "outputs": [],
   "source": [
    "#| hide\n",
    "from nbdev.showdoc import *\n",
    "from fastcore.test import *\n",
    "from fastcore.utils import*"
   ]
  },
  {
   "cell_type": "code",
   "execution_count": 7,
   "metadata": {},
   "outputs": [],
   "source": [
    "#| exports\n",
    "class TrieNode:\n",
    "    \"Stores the hashtable of the letters and the if that node is an end of a word.\"\n",
    "    def __init__(self) -> None:\n",
    "        self.end = False\n",
    "        self.letters = {}\n",
    "        \n",
    "class Trie:\n",
    "    \"Trie data structure. Can store multiple words in a graph linking each consecutive letters and make branches in them.\"\n",
    "    def __init__(self) -> None:\n",
    "        self.head = TrieNode()\n",
    "    \"Insert a word into the trie\"\n",
    "    def insert(self, \n",
    "                word: str) -> None: # word to store in the trie\n",
    "        actual_iteration = self.head\n",
    "        for letter in word:\n",
    "            actual_iteration_letters = actual_iteration.letters\n",
    "            if not letter in actual_iteration_letters:\n",
    "                actual_iteration_letters[letter] = TrieNode()\n",
    "            actual_iteration=actual_iteration_letters[letter]\n",
    "        actual_iteration.end = True\n",
    "    \"Check if a word exist in the trie\"\n",
    "    def search(self, \n",
    "                word:str) -> bool: # check if the word is stored in the trie\n",
    "        actual_iteration = self.head\n",
    "        for letter in word:\n",
    "            actual_iteration_letters = actual_iteration.letters\n",
    "            if not letter in actual_iteration_letters:\n",
    "                return False\n",
    "            actual_iteration=actual_iteration_letters[letter]\n",
    "        return actual_iteration.end"
   ]
  },
  {
   "cell_type": "code",
   "execution_count": null,
   "metadata": {},
   "outputs": [],
   "source": [
    "#| hide\n",
    "import nbdev; nbdev.nbdev_export()"
   ]
  },
  {
   "cell_type": "code",
   "execution_count": 12,
   "metadata": {},
   "outputs": [
    {
     "data": {
      "text/markdown": [
       "---\n",
       "\n",
       "### TrieNode\n",
       "\n",
       ">      TrieNode ()\n",
       "\n",
       "Stores the hashtable of the letters and the if that node is an end of a word."
      ],
      "text/plain": [
       "---\n",
       "\n",
       "### TrieNode\n",
       "\n",
       ">      TrieNode ()\n",
       "\n",
       "Stores the hashtable of the letters and the if that node is an end of a word."
      ]
     },
     "execution_count": 12,
     "metadata": {},
     "output_type": "execute_result"
    }
   ],
   "source": [
    "#| hide\n",
    "show_doc(TrieNode)"
   ]
  },
  {
   "cell_type": "code",
   "execution_count": null,
   "metadata": {},
   "outputs": [],
   "source": [
    "#| hide\n",
    "trie = Trie()\n",
    "trie.insert(\"Hola\")\n",
    "assert trie.search(\"Hola\") == True\n",
    "assert trie.search(\"hola\") == False"
   ]
  },
  {
   "cell_type": "code",
   "execution_count": null,
   "metadata": {},
   "outputs": [],
   "source": []
  }
 ],
 "metadata": {
  "kernelspec": {
   "display_name": "Python 3 (ipykernel)",
   "language": "python",
   "name": "python3"
  },
  "language_info": {
   "codemirror_mode": {
    "name": "ipython",
    "version": 3
   },
   "file_extension": ".py",
   "mimetype": "text/x-python",
   "name": "python",
   "nbconvert_exporter": "python",
   "pygments_lexer": "ipython3",
   "version": "3.10.12"
  }
 },
 "nbformat": 4,
 "nbformat_minor": 4
}
