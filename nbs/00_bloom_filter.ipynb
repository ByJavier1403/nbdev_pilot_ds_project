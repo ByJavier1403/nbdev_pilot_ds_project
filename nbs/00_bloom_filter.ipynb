{
 "cells": [
  {
   "cell_type": "markdown",
   "metadata": {},
   "source": [
    "# Data Structures\n",
    "\n",
    "> Data structures module. It contains the DS's implementations of the library."
   ]
  },
  {
   "cell_type": "code",
   "execution_count": null,
   "metadata": {},
   "outputs": [],
   "source": [
    "#| default_exp bloomf"
   ]
  },
  {
   "cell_type": "code",
   "execution_count": null,
   "metadata": {},
   "outputs": [],
   "source": [
    "#| hide\n",
    "from nbdev.showdoc import *\n",
    "from fastcore.test import *"
   ]
  },
  {
   "cell_type": "code",
   "execution_count": null,
   "metadata": {},
   "outputs": [],
   "source": [
    "#| export\n",
    "import hashlib as hl\n",
    "import numpy as np\n",
    "import math as mth\n",
    "\n",
    "class BloomFilter():\n",
    "    \"Bloom filter description\"\n",
    "    def __init__(self, \n",
    "                m=10,   # m description\n",
    "                k=1):   # k description\n",
    "        self.bits = mth.ceil(mth.log(m,2))\n",
    "        self.hexa_characters = mth.ceil(self.bits/4) \n",
    "        self.MD5proceses = mth.ceil(k*self.hexa_characters/32)\n",
    "        self.m = m\n",
    "        self.k = k\n",
    "        self.bloom = np.zeros(m, dtype = bool)\n",
    "\n",
    "    def k_positions(self, object: str):\n",
    "        # Returns 'k' positions in which we´re going to put 'True' in the BloomFilter\n",
    "        positions = []\n",
    "        hash = ''\n",
    "        \n",
    "        for proceses in range(self.MD5proceses):\n",
    "        string2 = object +str(proceses)\n",
    "        hexa = hl.md5(string2.encode('utf-8')).hexdigest()\n",
    "        hash += hexa\n",
    "        \n",
    "        for i in range(0, self.k*self.hexa_characters, self.hexa_characters):\n",
    "        value = int(hash[i:i + self.hexa_characters], 16) % self.m\n",
    "        positions.append(value)\n",
    "        \n",
    "        return positions\n",
    "\n",
    "    def insert(self, object: str):\n",
    "        positions = self.k_positions(object)\n",
    "\n",
    "        for pos in positions:\n",
    "        self.bloom[pos] = True\n",
    "\n",
    "    def search(self, object: str):\n",
    "        positions = self.k_positions(object)\n",
    "        i = 0\n",
    "        found = True\n",
    "        while i < len(positions) and found:\n",
    "        found = self.bloom[positions[i]]\n",
    "        i +=1\n",
    "\n",
    "        return found"
   ]
  },
  {
   "cell_type": "code",
   "execution_count": null,
   "metadata": {},
   "outputs": [],
   "source": [
    "#| hide\n",
    "import nbdev; nbdev.nbdev_export()"
   ]
  }
 ],
 "metadata": {
  "kernelspec": {
   "display_name": "python3",
   "language": "python",
   "name": "python3"
  }
 },
 "nbformat": 4,
 "nbformat_minor": 4
}
