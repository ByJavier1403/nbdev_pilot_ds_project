{
 "cells": [
  {
   "cell_type": "markdown",
   "metadata": {},
   "source": [
    "# Bloom filter\n",
    "\n",
    "> Bloom filter structure"
   ]
  },
  {
   "cell_type": "code",
   "execution_count": null,
   "metadata": {},
   "outputs": [],
   "source": [
    "#| default_exp bloomf"
   ]
  },
  {
   "cell_type": "code",
   "execution_count": 3,
   "metadata": {},
   "outputs": [],
   "source": [
    "#| hide\n",
    "from nbdev.showdoc import *\n",
    "from fastcore.test import *"
   ]
  },
  {
   "cell_type": "code",
   "execution_count": 1,
   "metadata": {},
   "outputs": [],
   "source": [
    "#| export\n",
    "import hashlib as hl\n",
    "import numpy as np\n",
    "import math as mth\n",
    "\n",
    "class BloomFilter():\n",
    "    \"Bloom filter data structure. Checks if an element is most definitely not in a dataset through hashing functions and an array of bits\"\n",
    "    def __init__(self, \n",
    "                m:int=10,   # Number of elements we want to insert in the data structure\n",
    "                k:int=1):   # Number of hash functions we´re going to make to each element\n",
    "        self.bits = mth.ceil(mth.log(m,2))\n",
    "        self.hexa_characters = mth.ceil(self.bits/4) \n",
    "        self.MD5proceses = mth.ceil(k*self.hexa_characters/32)\n",
    "        self.m = m\n",
    "        self.k = k\n",
    "        self.bloom = np.zeros(m, dtype = bool)\n",
    "    \n",
    "    def k_positions(self,\n",
    "                    object:str):\n",
    "        \"Returns 'k' positions in which we´re going to put 'True' in the BloomFilter\"\n",
    "        positions = []\n",
    "        hash = ''\n",
    "        for proceses in range(self.MD5proceses):\n",
    "            string2 = object +str(proceses)\n",
    "            hexa = hl.md5(string2.encode('utf-8')).hexdigest()\n",
    "            hash += hexa\n",
    "        for i in range(0, self.k*self.hexa_characters, self.hexa_characters):\n",
    "            value = int(hash[i:i + self.hexa_characters], 16) % self.m\n",
    "            positions.append(value)\n",
    "        return positions\n",
    "\n",
    "    def insert(self, \n",
    "               object: str): # A string value we´re going to insert\n",
    "        \"Inserts an element in the bloom filter\"\n",
    "        positions = self.k_positions(object)\n",
    "        for pos in positions:\n",
    "            self.bloom[pos] = True\n",
    "\n",
    "    def search(self, \n",
    "               object: str # The word we are going to search for\n",
    "              )-> bool: # Returns true if the string is contained in the bloom filter\n",
    "        \"Searches for an element in the bloom filter\"\n",
    "        positions = self.k_positions(object)\n",
    "        i = 0\n",
    "        found = True\n",
    "        while i < len(positions) and found:\n",
    "            found = self.bloom[positions[i]]\n",
    "            i +=1\n",
    "        return found"
   ]
  },
  {
   "cell_type": "code",
   "execution_count": 7,
   "metadata": {},
   "outputs": [
    {
     "data": {
      "text/markdown": [
       "---\n",
       "\n",
       "[source](https://github.com/SergioPereo/nbdev_pilot_ds_project/blob/main/nbdev_pilot_ds_project/bloomf.py#L23){target=\"_blank\" style=\"float:right; font-size:smaller\"}\n",
       "\n",
       "### BloomFilter.k_positions\n",
       "\n",
       ">      BloomFilter.k_positions (object:str)"
      ],
      "text/plain": [
       "---\n",
       "\n",
       "[source](https://github.com/SergioPereo/nbdev_pilot_ds_project/blob/main/nbdev_pilot_ds_project/bloomf.py#L23){target=\"_blank\" style=\"float:right; font-size:smaller\"}\n",
       "\n",
       "### BloomFilter.k_positions\n",
       "\n",
       ">      BloomFilter.k_positions (object:str)"
      ]
     },
     "execution_count": 7,
     "metadata": {},
     "output_type": "execute_result"
    }
   ],
   "source": [
    "show_doc(BloomFilter.k_positions)"
   ]
  },
  {
   "cell_type": "code",
   "execution_count": 5,
   "metadata": {},
   "outputs": [
    {
     "data": {
      "text/markdown": [
       "---\n",
       "\n",
       "[source](https://github.com/SergioPereo/nbdev_pilot_ds_project/blob/main/nbdev_pilot_ds_project/bloomf.py#L39){target=\"_blank\" style=\"float:right; font-size:smaller\"}\n",
       "\n",
       "### BloomFilter.insert\n",
       "\n",
       ">      BloomFilter.insert (object:str)\n",
       "\n",
       "|    | **Type** | **Details** |\n",
       "| -- | -------- | ----------- |\n",
       "| object | str | A string value we´re going to insert |"
      ],
      "text/plain": [
       "---\n",
       "\n",
       "[source](https://github.com/SergioPereo/nbdev_pilot_ds_project/blob/main/nbdev_pilot_ds_project/bloomf.py#L39){target=\"_blank\" style=\"float:right; font-size:smaller\"}\n",
       "\n",
       "### BloomFilter.insert\n",
       "\n",
       ">      BloomFilter.insert (object:str)\n",
       "\n",
       "|    | **Type** | **Details** |\n",
       "| -- | -------- | ----------- |\n",
       "| object | str | A string value we´re going to insert |"
      ]
     },
     "execution_count": 5,
     "metadata": {},
     "output_type": "execute_result"
    }
   ],
   "source": [
    "show_doc(BloomFilter.insert)"
   ]
  },
  {
   "cell_type": "code",
   "execution_count": 9,
   "metadata": {},
   "outputs": [
    {
     "data": {
      "text/markdown": [
       "---\n",
       "\n",
       "[source](https://github.com/SergioPereo/nbdev_pilot_ds_project/blob/main/nbdev_pilot_ds_project/bloomf.py#L45){target=\"_blank\" style=\"float:right; font-size:smaller\"}\n",
       "\n",
       "### BloomFilter.search\n",
       "\n",
       ">      BloomFilter.search (object:str)\n",
       "\n",
       "|    | **Type** | **Details** |\n",
       "| -- | -------- | ----------- |\n",
       "| object | str | The word we are going to search for |\n",
       "| **Returns** | **bool** | **Returns true if the string is contained in the bloom filter** |"
      ],
      "text/plain": [
       "---\n",
       "\n",
       "[source](https://github.com/SergioPereo/nbdev_pilot_ds_project/blob/main/nbdev_pilot_ds_project/bloomf.py#L45){target=\"_blank\" style=\"float:right; font-size:smaller\"}\n",
       "\n",
       "### BloomFilter.search\n",
       "\n",
       ">      BloomFilter.search (object:str)\n",
       "\n",
       "|    | **Type** | **Details** |\n",
       "| -- | -------- | ----------- |\n",
       "| object | str | The word we are going to search for |\n",
       "| **Returns** | **bool** | **Returns true if the string is contained in the bloom filter** |"
      ]
     },
     "execution_count": 9,
     "metadata": {},
     "output_type": "execute_result"
    }
   ],
   "source": [
    "show_doc(BloomFilter.search)"
   ]
  },
  {
   "cell_type": "code",
   "execution_count": 8,
   "metadata": {},
   "outputs": [],
   "source": [
    "#| hide\n",
    "import nbdev; nbdev.nbdev_export()"
   ]
  }
 ],
 "metadata": {
  "kernelspec": {
   "display_name": "Python 3 (ipykernel)",
   "language": "python",
   "name": "python3"
  },
  "language_info": {
   "codemirror_mode": {
    "name": "ipython",
    "version": 3
   },
   "file_extension": ".py",
   "mimetype": "text/x-python",
   "name": "python",
   "nbconvert_exporter": "python",
   "pygments_lexer": "ipython3",
   "version": "3.11.0"
  }
 },
 "nbformat": 4,
 "nbformat_minor": 4
}
